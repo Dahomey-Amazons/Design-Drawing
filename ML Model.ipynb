{
  "nbformat": 4,
  "nbformat_minor": 0,
  "metadata": {
    "colab": {
      "provenance": []
    },
    "kernelspec": {
      "name": "python3",
      "display_name": "Python 3"
    },
    "language_info": {
      "name": "python"
    }
  },
  "cells": [
    {
      "cell_type": "code",
      "source": [
        "import torch\n",
        "import torchvision.models as models\n",
        "import torchvision.transforms as transforms\n",
        "from PIL import Image\n",
        "\n",
        "# Load pre-trained ResNet model\n",
        "model = models.resnet50(pretrained=True)\n",
        "model.fc = torch.nn.Identity()  # Remove the final fully connected layer\n",
        "model.eval()\n",
        "\n",
        "# Define image transformations\n",
        "transform = transforms.Compose([\n",
        "    transforms.Resize(256),\n",
        "    transforms.CenterCrop(224),\n",
        "    transforms.ToTensor(),\n",
        "    transforms.Normalize(mean=[0.485, 0.456, 0.406], std=[0.229, 0.224, 0.225]),\n",
        "])\n",
        "\n",
        "def encode_image(image_path):\n",
        "    image = Image.open(image_path).convert('RGB')\n",
        "    image = transform(image).unsqueeze(0)\n",
        "    with torch.no_grad():\n",
        "        features = model(image)\n",
        "    return features.squeeze().numpy()\n",
        "\n",
        "# Encode your product database\n",
        "product_database = []\n",
        "for product in your_product_list:\n",
        "    features = encode_image(product.image_path)\n",
        "    product_database.append((features, product))\n",
        "\n",
        "# Function to find similar products\n",
        "def find_similar_products(drawn_image_path, top_k=5):\n",
        "    drawn_features = encode_image(drawn_image_path)\n",
        "\n",
        "    similarities = []\n",
        "    for features, product in product_database:\n",
        "        similarity = cosine_similarity(drawn_features, features)\n",
        "        similarities.append((similarity, product))\n",
        "\n",
        "    similarities.sort(reverse=True)\n",
        "    return similarities[:top_k]\n",
        "\n",
        "# Example usage\n",
        "similar_products = find_similar_products('path_to_drawn_image.jpg')\n",
        "for similarity, product in similar_products:\n",
        "    print(f\"Similarity: {similarity}, Product: {product.name}\")"
      ],
      "metadata": {
        "id": "k-v0fKuvW4VQ"
      },
      "execution_count": null,
      "outputs": []
    }
  ]
}